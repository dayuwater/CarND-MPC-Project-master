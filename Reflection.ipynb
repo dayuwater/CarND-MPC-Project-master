{
 "cells": [
  {
   "cell_type": "markdown",
   "metadata": {},
   "source": [
    "> # Reflection"
   ]
  },
  {
   "cell_type": "markdown",
   "metadata": {},
   "source": [
    "# Model"
   ]
  },
  {
   "cell_type": "markdown",
   "metadata": {},
   "source": [
    "## State\n",
    "- There are two coordinate systems used in this project:\n",
    "    - World(Map): This is used by the simulator. This is what the server returns.\n",
    "    - Car: This is used by the car's model"
   ]
  },
  {
   "cell_type": "markdown",
   "metadata": {},
   "source": [
    "There are six components:\n",
    "- The current x position of the car (px)\n",
    "- The current y position of the car (py)\n",
    "- The heading(driving direction) of the car related to postitive x axis (psi)\n",
    "- The magnitude of the speed of the car (v)\n",
    "- The cross-track error (CTE)\n",
    "- The error of the driving direction (epsi)"
   ]
  },
  {
   "cell_type": "markdown",
   "metadata": {},
   "source": [
    "## Actuation"
   ]
  },
  {
   "cell_type": "markdown",
   "metadata": {},
   "source": [
    "There are two components:\n",
    "- steering: In the model this is in [-25 degree, 25 degree]. It is rescaled to [-1 radian,1 radian] before sending to the simulator\n",
    "- throttle: How much the car will accelerate in Unity unit (m) / (unit timestep (s)) ^ 2. It is in [-1, 1]"
   ]
  },
  {
   "cell_type": "markdown",
   "metadata": {},
   "source": [
    "## Transition Function\n",
    "- A.k.a. Update Equations\n",
    "- This is based on the kinematic model in the lecture. \n",
    "- Because the car's kinematic model uses the car's coordinate system, the car is always at (0,0) with a driving direction (psi) at 0 radian. A more simplified model can be used. This model will be described later\n",
    "- This is also used to predict the car's state in a future state when the actuation is delayed ( by 100ms in this project)\n",
    "- This model assumes the car will drive in constant velocity between consecutive timesteps, and the speed will be changing linearly between consecutive timesteps. In addition, this model assumes the car has a constant turning rate between consecutive timesteps. The CTE and epsi are calculated from the error between model and actual position\n",
    "- $x_{t+1} = x_{t} + v_{t} * dt$\n",
    "- $y_{t+1} = x_{t} + v_{t} * dt$ \n",
    "- $v_{t+1} = v_{t} + a_{t} * dt$\n",
    "- $psi_{t+1} = psi_{t} + v_{t} * steer_{t} / Lf * dt$\n",
    "- $cte_{t+1} = (f_{t} - y_{t}) + (v_{t} + sin(epsi_{t}) * dt)$\n",
    "- $epsi_{t+1} = psi_{t} - tan^{-1}(f'_{t}) + v_{t} * steer_{t} / Lf * dt$"
   ]
  },
  {
   "cell_type": "markdown",
   "metadata": {},
   "source": [
    "# Timestep Length and Elapsed Duration (N & dt)"
   ]
  },
  {
   "cell_type": "markdown",
   "metadata": {},
   "source": [
    "- The polynomial is fitted to all the waypoints provided by the server, no matter whether the waypoint is in front of the car or on the back of the car\n",
    "- Therefore, the polynomials are circular, it is nessesary to set an upper limit of timestep length in order to eliminate the polynomial segments that move to the back of the car.\n",
    "- However, the car must be able to look ahead far enough to make a good judgement of the curvature of the road, so N should also be large anough.\n",
    "- The choice of dt is sensitive to the actuation latency. If the latency is short, dt should be small, if the latency is large, dt should be large.\n",
    "- When dt is large, the car is less reactive to turns. When dt is small, the car is more reactive to turns\n",
    "- Previous value tried:\n",
    "    - N = 50, dt = 0.03. The fitted polynomial is way to the sides of the road that cannot see on the simulator, which causes the car drive to the sides when turning.\n",
    "    - N = 10, dt = 0.05. The fitted polynomial is too short to see on the simulator. The car has a very limited foresight of the road, and does not respond to any road curvature changes.\n",
    "    - N = 25, dt = 0.05. This value works when the car has a 100ms actuation latency, but it causes the car unresponsive to significant turns when there is no actuation latency.\n",
    "    - N = 25, dt = 0.03. This value works when the car does not have an actuation latency, but it causes the car overreact to turns when there is a 100ms latency."
   ]
  },
  {
   "cell_type": "markdown",
   "metadata": {},
   "source": [
    "# Polynomial Fitting and MPC Preprocessing"
   ]
  },
  {
   "cell_type": "markdown",
   "metadata": {},
   "source": [
    "## Polynomial Fitting"
   ]
  },
  {
   "cell_type": "markdown",
   "metadata": {},
   "source": [
    "- Because there are curves in the simulator and in real life, using linear model ( order 1 polynomial) does not work well\n",
    "- Using quadratic model (order 2 polynomial) could fit most curves well, and it could deal with consecutive curves turning in the same direction. However, it cannot fit consecutive curves turning in different directions.\n",
    "- Therefore, a cubic model (order 3 polynomial) is needed. \n",
    "- Using models over order 3 could work better if there are more data, but there are only 6 waypoints available from the simulator. Therefore, using a more complex model would cause overfitting\n"
   ]
  },
  {
   "cell_type": "markdown",
   "metadata": {},
   "source": [
    "## Preprocessing"
   ]
  },
  {
   "cell_type": "markdown",
   "metadata": {},
   "source": [
    "- Before running the MPC solver, I transformed the waypoints from map's coordinate system ( what the server sends to the program) to car's coordindate system, where the current position of the car is (0,0), and the current heading of the car is 0 radian. \n",
    "- Transforming the waypoints simplifies the model, which is helpful for programming and debugging. This process also normalize the data by making them around 0, which makes the prediction more accurate.\n",
    "    - $f_{t,1}$ means the coefficient of the 1st order term of the polynomial \n",
    "    - $x_{t} = 0, y_{t} = 0, psi_{t} = 0$\n",
    "    - $x_{t+1} = x_{t} + v_{t} * dt$\n",
    "    - $y_{t+1} = 0$  ( The car will always be moving at the current direction until it receives a new command and starts a new session of MPC calculation )\n",
    "    - $v_{t+1} = v_{t} + a_{t} * dt$\n",
    "    - $psi_{t+1} = v_{t} * steer_{t} / Lf * dt$\n",
    "    - $cte_{t+1} = (f_{t} - y_{t}) + (v_{t} + sin(-tan^{-1}(f_{t,1})) * dt)$\n",
    "    - $epsi_{t+1} = - tan^{-1}(f_{t,1}) + v_{t} * steer_{t} / Lf * dt$\n",
    "- I also tested the MPC solver using both map's coordinate system and car's coordinate system. The model using the map's coordinate system could only predict closer points correctly, and the predicted curve curves to the back of the car for farther points. This causes the car to U-turn where it should drive straight ahead. However, the model using the car's coordinate system solves this problem.\n",
    "- In order to combat the actuation latency, I added another preprocessing step, see the section below.\n",
    "\n",
    "    "
   ]
  },
  {
   "cell_type": "markdown",
   "metadata": {},
   "source": [
    "# Model Predictive Control with Latency"
   ]
  },
  {
   "cell_type": "markdown",
   "metadata": {
    "collapsed": true
   },
   "source": [
    "- Before I put the car's state into the MPC solver, I used the transformed and simplified kinetic model stated in the \"Preprocessing\" section (right above) to predict the state of the car at 100ms later. I then pass the predicted state to the MPC solver.\n",
    "- I also increased dt from 0.03 to 0.05. See \"Timestep Length and Elapsed Duration (N & dt)\" section for more detail.\n",
    "- The MPC controller can drive the car safely at 50mph if there were no latency. However, it can only drive the car at 40mph with latency. If the car is driven at 50mph, it can still be on the track if there is no big turns, but it will fall off the track when in big turns."
   ]
  },
  {
   "cell_type": "code",
   "execution_count": null,
   "metadata": {
    "collapsed": true
   },
   "outputs": [],
   "source": []
  }
 ],
 "metadata": {
  "kernelspec": {
   "display_name": "Python 3",
   "language": "python",
   "name": "python3"
  },
  "language_info": {
   "codemirror_mode": {
    "name": "ipython",
    "version": 3
   },
   "file_extension": ".py",
   "mimetype": "text/x-python",
   "name": "python",
   "nbconvert_exporter": "python",
   "pygments_lexer": "ipython3",
   "version": "3.6.0"
  }
 },
 "nbformat": 4,
 "nbformat_minor": 2
}
